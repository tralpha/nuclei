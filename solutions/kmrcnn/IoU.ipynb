{
 "cells": [
  {
   "cell_type": "code",
   "execution_count": 1,
   "metadata": {},
   "outputs": [
    {
     "name": "stderr",
     "output_type": "stream",
     "text": [
      "/home/ubuntu/anaconda3/envs/tf_pycoco/lib/python3.6/site-packages/matplotlib/__init__.py:962: UserWarning: Duplicate key in file \"/home/ubuntu/.config/matplotlib/matplotlibrc\", line #2\n",
      "  (fname, cnt))\n",
      "/home/ubuntu/anaconda3/envs/tf_pycoco/lib/python3.6/site-packages/matplotlib/__init__.py:962: UserWarning: Duplicate key in file \"/home/ubuntu/.config/matplotlib/matplotlibrc\", line #3\n",
      "  (fname, cnt))\n",
      "/home/ubuntu/anaconda3/envs/tf_pycoco/lib/python3.6/importlib/_bootstrap.py:219: RuntimeWarning: compiletime version 3.5 of module 'tensorflow.python.framework.fast_tensor_util' does not match runtime version 3.6\n",
      "  return f(*args, **kwds)\n",
      "/home/ubuntu/anaconda3/envs/tf_pycoco/lib/python3.6/site-packages/h5py/__init__.py:36: FutureWarning: Conversion of the second argument of issubdtype from `float` to `np.floating` is deprecated. In future, it will be treated as `np.float64 == np.dtype(float).type`.\n",
      "  from ._conv import register_converters as _register_converters\n"
     ]
    },
    {
     "name": "stdout",
     "output_type": "stream",
     "text": [
      "27\n"
     ]
    },
    {
     "name": "stderr",
     "output_type": "stream",
     "text": [
      "Using TensorFlow backend.\n"
     ]
    }
   ],
   "source": [
    "%matplotlib inline\n",
    "import numpy as np\n",
    "import skimage.io\n",
    "import matplotlib.pyplot as plt\n",
    "import skimage.segmentation\n",
    "from IPython.core.debugger import set_trace\n",
    "from shapes import ShapesConfig, ShapesDataset\n",
    "import model as modellib\n",
    "import utils\n",
    "from skimage.morphology import label\n",
    "\n",
    "# Load a single image and its associated masks\n",
    "id = '0a7d30b252359a10fd298b638b90cb9ada3acced4e0c0e5a3692013f432ee4e9'\n",
    "file = \"../../input/stage1_train/{}/images/{}.png\".format(id,id)\n",
    "masks = \"../../input/stage1_train/{}/masks/*.png\".format(id)\n",
    "image = skimage.io.imread(file)\n",
    "masks = skimage.io.imread_collection(masks).concatenate()\n",
    "height, width, _ = image.shape\n",
    "num_masks = masks.shape[0]\n",
    "print(num_masks)\n",
    "# from IPython.core.debugger import Tracer; Tracer()()"
   ]
  },
  {
   "cell_type": "code",
   "execution_count": 130,
   "metadata": {},
   "outputs": [
    {
     "name": "stdout",
     "output_type": "stream",
     "text": [
      "Label connected regions of an integer array.\n",
      "\n",
      "    Two pixels are connected when they are neighbors and have the same value.\n",
      "    In 2D, they can be neighbors either in a 1- or 2-connected sense.\n",
      "    The value refers to the maximum number of orthogonal hops to consider a\n",
      "    pixel/voxel a neighbor::\n",
      "\n",
      "      1-connectivity      2-connectivity     diagonal connection close-up\n",
      "\n",
      "           [ ]           [ ]  [ ]  [ ]         [ ]\n",
      "            |               \\  |  /             |  <- hop 2\n",
      "      [ ]--[x]--[ ]      [ ]--[x]--[ ]    [x]--[ ]\n",
      "            |               /  |  \\         hop 1\n",
      "           [ ]           [ ]  [ ]  [ ]\n",
      "\n",
      "    Parameters\n",
      "    ----------\n",
      "    input : ndarray of dtype int\n",
      "        Image to label.\n",
      "    neighbors : {4, 8}, int, optional\n",
      "        Whether to use 4- or 8-\"connectivity\".\n",
      "        In 3D, 4-\"connectivity\" means connected pixels have to share face,\n",
      "        whereas with 8-\"connectivity\", they have to share only edge or vertex.\n",
      "        **Deprecated, use ``connectivity`` instead.**\n",
      "    background : int, optional\n",
      "        Consider all pixels with this value as background pixels, and label\n",
      "        them as 0. By default, 0-valued pixels are considered as background\n",
      "        pixels.\n",
      "    return_num : bool, optional\n",
      "        Whether to return the number of assigned labels.\n",
      "    connectivity : int, optional\n",
      "        Maximum number of orthogonal hops to consider a pixel/voxel\n",
      "        as a neighbor.\n",
      "        Accepted values are ranging from  1 to input.ndim. If ``None``, a full\n",
      "        connectivity of ``input.ndim`` is used.\n",
      "\n",
      "    Returns\n",
      "    -------\n",
      "    labels : ndarray of dtype int\n",
      "        Labeled array, where all connected regions are assigned the\n",
      "        same integer value.\n",
      "    num : int, optional\n",
      "        Number of labels, which equals the maximum label index and is only\n",
      "        returned if return_num is `True`.\n",
      "\n",
      "    See Also\n",
      "    --------\n",
      "    regionprops\n",
      "\n",
      "    References\n",
      "    ----------\n",
      "    .. [1] Christophe Fiorio and Jens Gustedt, \"Two linear time Union-Find\n",
      "           strategies for image processing\", Theoretical Computer Science\n",
      "           154 (1996), pp. 165-181.\n",
      "    .. [2] Kensheng Wu, Ekow Otoo and Arie Shoshani, \"Optimizing connected\n",
      "           component labeling algorithms\", Paper LBNL-56864, 2005,\n",
      "           Lawrence Berkeley National Laboratory (University of California),\n",
      "           http://repositories.cdlib.org/lbnl/LBNL-56864\n",
      "\n",
      "    Examples\n",
      "    --------\n",
      "    >>> import numpy as np\n",
      "    >>> x = np.eye(3).astype(int)\n",
      "    >>> print(x)\n",
      "    [[1 0 0]\n",
      "     [0 1 0]\n",
      "     [0 0 1]]\n",
      "    >>> print(label(x, connectivity=1))\n",
      "    [[1 0 0]\n",
      "     [0 2 0]\n",
      "     [0 0 3]]\n",
      "    >>> print(label(x, connectivity=2))\n",
      "    [[1 0 0]\n",
      "     [0 1 0]\n",
      "     [0 0 1]]\n",
      "    >>> print(label(x, background=-1))\n",
      "    [[1 2 2]\n",
      "     [2 1 2]\n",
      "     [2 2 1]]\n",
      "    >>> x = np.array([[1, 0, 0],\n",
      "    ...               [1, 1, 5],\n",
      "    ...               [0, 0, 0]])\n",
      "    >>> print(label(x))\n",
      "    [[1 0 0]\n",
      "     [1 1 2]\n",
      "     [0 0 0]]\n",
      "    \n"
     ]
    }
   ],
   "source": [
    "print(label.__doc__)"
   ]
  },
  {
   "cell_type": "code",
   "execution_count": 132,
   "metadata": {},
   "outputs": [
    {
     "name": "stdout",
     "output_type": "stream",
     "text": [
      "[[1 0 0]\n",
      " [0 1 0]\n",
      " [0 0 1]]\n"
     ]
    }
   ],
   "source": []
  },
  {
   "cell_type": "code",
   "execution_count": 3,
   "metadata": {},
   "outputs": [],
   "source": [
    "# Make a ground truth label image (pixel value is index of object label)\n",
    "labels = np.zeros((height, width), np.uint16)\n",
    "for index in range(0, num_masks):\n",
    "    labels[masks[index] > 0] = index + 1"
   ]
  },
  {
   "cell_type": "code",
   "execution_count": 4,
   "metadata": {},
   "outputs": [
    {
     "data": {
      "text/plain": [
       "<matplotlib.image.AxesImage at 0x7ff8712b24e0>"
      ]
     },
     "execution_count": 4,
     "metadata": {},
     "output_type": "execute_result"
    },
    {
     "data": {
      "image/png": "[encoded data removed]",
      "text/plain": [
       "<matplotlib.figure.Figure at 0x7ff8b42de1d0>"
      ]
     },
     "metadata": {},
     "output_type": "display_data"
    }
   ],
   "source": [
    "plt.imshow(masks[19])"
   ]
  },
  {
   "cell_type": "code",
   "execution_count": 6,
   "metadata": {},
   "outputs": [
    {
     "data": {
      "image/png": "[encoded data removed]",
      "text/plain": [
       "<matplotlib.figure.Figure at 0x7ff87119e780>"
      ]
     },
     "metadata": {},
     "output_type": "display_data"
    }
   ],
   "source": [
    "# Show label image\n",
    "fig, axes = plt.subplots(1,2, figsize=(6,4))\n",
    "axes[0].imshow(image)\n",
    "axes[0].set_title(\"Original image\")\n",
    "axes[1].imshow(labels)\n",
    "axes[1].set_title(\"Ground truth masks\")\n",
    "plt.tight_layout()\n",
    "for ax in axes:\n",
    "    ax.axis('off')"
   ]
  },
  {
   "cell_type": "code",
   "execution_count": 7,
   "metadata": {},
   "outputs": [
    {
     "name": "stderr",
     "output_type": "stream",
     "text": [
      "/home/ubuntu/anaconda3/envs/tf_pycoco/lib/python3.6/site-packages/skimage/segmentation/_join.py:118: FutureWarning: Conversion of the second argument of issubdtype from `int` to `np.signedinteger` is deprecated. In future, it will be treated as `np.int64 == np.dtype(int).type`.\n",
      "  if not np.issubdtype(label_field.dtype, np.int):\n"
     ]
    }
   ],
   "source": [
    "# Simulate an imperfect submission\n",
    "offset = 2 # offset pixels\n",
    "y_pred = labels[offset:, offset:]\n",
    "y_pred = np.pad(y_pred, ((0, offset), (0, offset)), mode=\"constant\")\n",
    "y_pred[y_pred == 20] = 0 # Remove one object\n",
    "y_pred, _, _ = skimage.segmentation.relabel_sequential(y_pred) # Relabel objects\n",
    "# y_pred = labels"
   ]
  },
  {
   "cell_type": "code",
   "execution_count": 9,
   "metadata": {},
   "outputs": [
    {
     "data": {
      "image/png": "[encoded data removed]",
      "text/plain": [
       "<matplotlib.figure.Figure at 0x7ff8710bc5c0>"
      ]
     },
     "metadata": {},
     "output_type": "display_data"
    }
   ],
   "source": [
    "fig, axes = plt.subplots(1,2, figsize=(12,4))\n",
    "axes[0].imshow(y_pred)\n",
    "axes[0].set_title(\"y_pred\")\n",
    "axes[1].imshow(labels)\n",
    "axes[1].set_title(\"labels\")\n",
    "plt.tight_layout()\n",
    "for ax in axes:\n",
    "    ax.axis('off')"
   ]
  },
  {
   "cell_type": "code",
   "execution_count": 10,
   "metadata": {},
   "outputs": [
    {
     "data": {
      "text/plain": [
       "Text(0.5,1,'Simulated imperfect submission')"
      ]
     },
     "execution_count": 10,
     "metadata": {},
     "output_type": "execute_result"
    },
    {
     "data": {
      "image/png": "[encoded data removed]",
      "text/plain": [
       "<matplotlib.figure.Figure at 0x7ff8b4b3bc88>"
      ]
     },
     "metadata": {},
     "output_type": "display_data"
    }
   ],
   "source": [
    "# Show simulated predictions\n",
    "fig = plt.figure()\n",
    "plt.imshow(y_pred)\n",
    "plt.title(\"Simulated imperfect submission\")"
   ]
  },
  {
   "cell_type": "code",
   "execution_count": 46,
   "metadata": {},
   "outputs": [
    {
     "name": "stdout",
     "output_type": "stream",
     "text": [
      "[[  1.   2.   3.   4.]\n",
      " [  5.   6.   7.   8.]\n",
      " [  9.  10.  11.  12.]\n",
      " [ 13.  14.  15.  16.]]\n",
      "(100,)\n"
     ]
    },
    {
     "data": {
      "image/png": "[encoded data removed]",
      "text/plain": [
       "<matplotlib.figure.Figure at 0x11b91ef98>"
      ]
     },
     "metadata": {},
     "output_type": "display_data"
    }
   ],
   "source": [
    "xedges = [0, 1, 1.5, 3, 5]\n",
    "yedges = [0, 2, 3, 4, 6]\n",
    "\n",
    "\n",
    "\n",
    "x = np.random.normal(3, 1, 100)\n",
    "y = np.random.normal(1, 1, 100)\n",
    "H, xedges, yedges = np.histogram2d(y, x, bins=(xedges, yedges))\n",
    "\n",
    "\n",
    "H = np.ones((4, 4)).cumsum().reshape(4, 4)\n",
    "# print(H[::-1])  # This shows the bin content in the order as plotted\n",
    "print(H)\n",
    "print(y.shape)\n",
    "\n",
    "fig = plt.figure(figsize=(7, 3))\n",
    "ax = fig.add_subplot(131)\n",
    "ax.set_title('imshow: equidistant')\n",
    "im = plt.imshow(H, interpolation='nearest', origin='low',\n",
    "                    extent=[xedges[0], xedges[-1], yedges[0], yedges[-1]])\n"
   ]
  },
  {
   "cell_type": "code",
   "execution_count": 11,
   "metadata": {},
   "outputs": [
    {
     "name": "stdout",
     "output_type": "stream",
     "text": [
      "Number of true objects: 28\n",
      "Number of predicted objects: 27\n"
     ]
    }
   ],
   "source": [
    "# Compute number of objects\n",
    "true_objects = len(np.unique(labels))\n",
    "pred_objects = len(np.unique(y_pred))\n",
    "print(\"Number of true objects:\", true_objects)\n",
    "print(\"Number of predicted objects:\", pred_objects)"
   ]
  },
  {
   "cell_type": "code",
   "execution_count": 12,
   "metadata": {},
   "outputs": [
    {
     "data": {
      "text/plain": [
       "<matplotlib.image.AxesImage at 0x7ff87112d8d0>"
      ]
     },
     "execution_count": 12,
     "metadata": {},
     "output_type": "execute_result"
    },
    {
     "data": {
      "image/png": "[encoded data removed]",
      "text/plain": [
       "<matplotlib.figure.Figure at 0x7ff8710c2f98>"
      ]
     },
     "metadata": {},
     "output_type": "display_data"
    }
   ],
   "source": [
    "# Compute intersection between all objects\n",
    "intersection, xedges, yedges = np.histogram2d(labels.flatten(), y_pred.flatten(), bins=(true_objects, pred_objects))\n",
    "\n",
    "plt.imshow(intersection[1:,1:], interpolation='nearest', origin='low',\n",
    "                extent=[xedges[0], xedges[-1], yedges[0], yedges[-1]])"
   ]
  },
  {
   "cell_type": "code",
   "execution_count": 13,
   "metadata": {},
   "outputs": [],
   "source": [
    "# Compute areas (needed for finding the union between all objects)\n",
    "area_true, atbins = np.histogram(labels, bins = true_objects)[:2]\n",
    "area_pred, apbins = np.histogram(y_pred, bins = pred_objects)[:2]\n",
    "area_true = np.expand_dims(area_true, -1)\n",
    "area_pred = np.expand_dims(area_pred, 0)"
   ]
  },
  {
   "cell_type": "code",
   "execution_count": 16,
   "metadata": {},
   "outputs": [
    {
     "data": {
      "text/plain": [
       "(1, 27)"
      ]
     },
     "execution_count": 16,
     "metadata": {},
     "output_type": "execute_result"
    }
   ],
   "source": [
    "area_pred.shape"
   ]
  },
  {
   "cell_type": "code",
   "execution_count": 17,
   "metadata": {},
   "outputs": [],
   "source": [
    "# Compute union\n",
    "union = area_true + area_pred - intersection"
   ]
  },
  {
   "cell_type": "code",
   "execution_count": 18,
   "metadata": {},
   "outputs": [],
   "source": [
    "# Exclude background from the analysis\n",
    "intersection = intersection[1:,1:]\n",
    "union = union[1:,1:]\n",
    "union[union == 0] = 1e-9"
   ]
  },
  {
   "cell_type": "code",
   "execution_count": 19,
   "metadata": {},
   "outputs": [],
   "source": [
    "# Compute the intersection over union\n",
    "iou = intersection / union"
   ]
  },
  {
   "cell_type": "code",
   "execution_count": 20,
   "metadata": {},
   "outputs": [
    {
     "data": {
      "text/plain": [
       "True"
      ]
     },
     "execution_count": 20,
     "metadata": {},
     "output_type": "execute_result"
    }
   ],
   "source": [
    "(iou < 1).all()"
   ]
  },
  {
   "cell_type": "code",
   "execution_count": 21,
   "metadata": {},
   "outputs": [
    {
     "data": {
      "text/plain": [
       "(27,)"
      ]
     },
     "execution_count": 21,
     "metadata": {},
     "output_type": "execute_result"
    }
   ],
   "source": [
    "threshold = 0.5\n",
    "matches = iou > threshold\n",
    "np.sum(matches, axis=1).shape\n"
   ]
  },
  {
   "cell_type": "code",
   "execution_count": 22,
   "metadata": {},
   "outputs": [],
   "source": [
    "# Precision helper function\n",
    "def precision_at(threshold, iou):\n",
    "    matches = iou > threshold # 0.5, 0.55, 0.6, 0.65, ... , 0.95\n",
    "    true_positives = np.sum(matches, axis=1) == 1   # Correct Objects\n",
    "    false_positives = np.sum(matches, axis=0) == 0  # Extra Objects\n",
    "    false_negatives = np.sum(matches, axis=1) == 0  # Missed Objects\n",
    "    tp, fp, fn = np.sum(true_positives), np.sum(false_positives), np.sum(false_negatives)\n",
    "    return tp, fp, fn"
   ]
  },
  {
   "cell_type": "code",
   "execution_count": 23,
   "metadata": {},
   "outputs": [
    {
     "name": "stdout",
     "output_type": "stream",
     "text": [
      "Thresh\tTP\tFP\tFN\tPrec.\n",
      "0.500\t25\t1\t2\t0.893\n",
      "0.550\t24\t2\t3\t0.828\n",
      "0.600\t22\t4\t5\t0.710\n",
      "0.650\t18\t8\t9\t0.514\n",
      "0.700\t13\t13\t14\t0.325\n",
      "0.750\t4\t22\t23\t0.082\n",
      "0.800\t0\t26\t27\t0.000\n",
      "0.850\t0\t26\t27\t0.000\n",
      "0.900\t0\t26\t27\t0.000\n",
      "0.950\t0\t26\t27\t0.000\n",
      "AP\t-\t-\t-\t0.335\n"
     ]
    }
   ],
   "source": [
    "# Loop over IoU thresholds\n",
    "prec = []\n",
    "print(\"Thresh\\tTP\\tFP\\tFN\\tPrec.\")\n",
    "for t in np.arange(0.5, 1.0, 0.05):\n",
    "    tp, fp, fn = precision_at(t, iou)\n",
    "    p = tp / (tp + fp + fn)\n",
    "    print(\"{:1.3f}\\t{}\\t{}\\t{}\\t{:1.3f}\".format(t, tp, fp, fn, p))\n",
    "    prec.append(p)\n",
    "print(\"AP\\t-\\t-\\t-\\t{:1.3f}\".format(np.mean(prec)))"
   ]
  },
  {
   "cell_type": "code",
   "execution_count": 9,
   "metadata": {},
   "outputs": [],
   "source": [
    "# Config\n",
    "config = ShapesConfig()\n",
    "# config.display()\n",
    "\n",
    "# Training dataset\n",
    "dataset_train = ShapesDataset()\n",
    "dataset_train.load_shapes(500, config.IMAGE_SHAPE[0], config.IMAGE_SHAPE[1])\n",
    "dataset_train.prepare()\n",
    "\n",
    "# Validation dataset\n",
    "dataset_val = ShapesDataset()\n",
    "dataset_val.load_shapes(50, config.IMAGE_SHAPE[0], config.IMAGE_SHAPE[1])\n",
    "dataset_val.prepare()"
   ]
  },
  {
   "cell_type": "code",
   "execution_count": 60,
   "metadata": {},
   "outputs": [],
   "source": [
    "shape_mask, shape_class = dataset_val.load_mask(4)\n",
    "shape_labels = np.zeros((shape_mask.shape[0],shape_mask.shape[1]), np.uint16)\n",
    "num_mask = shape_mask.shape[2]\n",
    "for index in range(0, num_mask):\n",
    "    shape_labels[shape_mask[:,:,index] > 0] = index + 1"
   ]
  },
  {
   "cell_type": "code",
   "execution_count": 61,
   "metadata": {},
   "outputs": [
    {
     "data": {
      "text/plain": [
       "<matplotlib.image.AxesImage at 0x7ff6c636feb8>"
      ]
     },
     "execution_count": 61,
     "metadata": {},
     "output_type": "execute_result"
    },
    {
     "data": {
      "image/png": "[encoded data removed]",
      "text/plain": [
       "<matplotlib.figure.Figure at 0x7ff6c6393e80>"
      ]
     },
     "metadata": {},
     "output_type": "display_data"
    }
   ],
   "source": [
    "plt.imshow(shape_labels)"
   ]
  },
  {
   "cell_type": "code",
   "execution_count": 62,
   "metadata": {},
   "outputs": [
    {
     "data": {
      "text/plain": [
       "(128, 128, 3)"
      ]
     },
     "execution_count": 62,
     "metadata": {},
     "output_type": "execute_result"
    },
    {
     "data": {
      "image/png": "[encoded data removed]",
      "text/plain": [
       "<matplotlib.figure.Figure at 0x7ff6c635e908>"
      ]
     },
     "metadata": {},
     "output_type": "display_data"
    }
   ],
   "source": [
    "plt.imshow(dataset_val.load_image(4))\n",
    "dataset_val.load_image(4).shape"
   ]
  },
  {
   "cell_type": "code",
   "execution_count": 63,
   "metadata": {},
   "outputs": [
    {
     "name": "stderr",
     "output_type": "stream",
     "text": [
      "/home/ubuntu/anaconda3/envs/tf_pycoco/lib/python3.6/site-packages/skimage/segmentation/_join.py:118: FutureWarning: Conversion of the second argument of issubdtype from `int` to `np.signedinteger` is deprecated. In future, it will be treated as `np.int64 == np.dtype(int).type`.\n",
      "  if not np.issubdtype(label_field.dtype, np.int):\n"
     ]
    }
   ],
   "source": [
    "# Simulate an imperfect submission\n",
    "offset = 2 # offset pixels\n",
    "shape_pred = shape_labels[offset:, offset:]\n",
    "shape_pred = np.pad(shape_pred, ((0, offset), (0, offset)), mode=\"constant\")\n",
    "shape_pred[shape_pred == 1] = 0 # Remove one object\n",
    "shape_pred, _, _ = skimage.segmentation.relabel_sequential(shape_pred) # Relabel objects\n",
    "# y_pred = labels"
   ]
  },
  {
   "cell_type": "code",
   "execution_count": 64,
   "metadata": {},
   "outputs": [
    {
     "data": {
      "text/plain": [
       "<matplotlib.image.AxesImage at 0x7ff6c62b8470>"
      ]
     },
     "execution_count": 64,
     "metadata": {},
     "output_type": "execute_result"
    },
    {
     "data": {
      "image/png": "[encoded data removed]",
      "text/plain": [
       "<matplotlib.figure.Figure at 0x7ff6c63630f0>"
      ]
     },
     "metadata": {},
     "output_type": "display_data"
    }
   ],
   "source": [
    "plt.imshow(shape_pred)"
   ]
  },
  {
   "cell_type": "code",
   "execution_count": 65,
   "metadata": {},
   "outputs": [
    {
     "name": "stdout",
     "output_type": "stream",
     "text": [
      "Number of true objects: 3\n",
      "Number of predicted objects: 2\n"
     ]
    }
   ],
   "source": [
    "true_objects = len(np.unique(shape_labels))\n",
    "pred_objects = len(np.unique(shape_pred))\n",
    "print(\"Number of true objects:\", true_objects)\n",
    "print(\"Number of predicted objects:\", pred_objects)"
   ]
  },
  {
   "cell_type": "code",
   "execution_count": 67,
   "metadata": {},
   "outputs": [],
   "source": [
    "intersection, xedges, yedges = np.histogram2d(shape_labels.flatten(), shape_pred.flatten(), bins=(true_objects, pred_objects))"
   ]
  },
  {
   "cell_type": "code",
   "execution_count": 68,
   "metadata": {},
   "outputs": [
    {
     "data": {
      "text/plain": [
       "(3, 2)"
      ]
     },
     "execution_count": 68,
     "metadata": {},
     "output_type": "execute_result"
    }
   ],
   "source": [
    "intersection.shape"
   ]
  },
  {
   "cell_type": "code",
   "execution_count": 69,
   "metadata": {},
   "outputs": [
    {
     "data": {
      "text/plain": [
       "array([[11732.,   186.],\n",
       "       [ 2299.,     0.],\n",
       "       [  190.,  1977.]])"
      ]
     },
     "execution_count": 69,
     "metadata": {},
     "output_type": "execute_result"
    }
   ],
   "source": [
    "intersection"
   ]
  },
  {
   "cell_type": "code",
   "execution_count": 71,
   "metadata": {},
   "outputs": [],
   "source": [
    "area_true, atbins = np.histogram(shape_labels, bins = true_objects)[:2]\n",
    "area_pred, apbins = np.histogram(shape_pred, bins = pred_objects)[:2]\n",
    "area_true = np.expand_dims(area_true, -1)\n",
    "area_pred = np.expand_dims(area_pred, 0)"
   ]
  },
  {
   "cell_type": "code",
   "execution_count": 72,
   "metadata": {},
   "outputs": [
    {
     "data": {
      "text/plain": [
       "(3, 1)"
      ]
     },
     "execution_count": 72,
     "metadata": {},
     "output_type": "execute_result"
    }
   ],
   "source": [
    "area_true.shape"
   ]
  },
  {
   "cell_type": "code",
   "execution_count": 73,
   "metadata": {},
   "outputs": [
    {
     "data": {
      "text/plain": [
       "(1, 2)"
      ]
     },
     "execution_count": 73,
     "metadata": {},
     "output_type": "execute_result"
    }
   ],
   "source": [
    "area_pred.shape"
   ]
  },
  {
   "cell_type": "code",
   "execution_count": 74,
   "metadata": {},
   "outputs": [],
   "source": [
    "# Compute union\n",
    "union = area_true + area_pred - intersection"
   ]
  },
  {
   "cell_type": "code",
   "execution_count": 77,
   "metadata": {},
   "outputs": [],
   "source": [
    "# Compute the intersection over union\n",
    "iou = intersection / union"
   ]
  },
  {
   "cell_type": "code",
   "execution_count": 75,
   "metadata": {},
   "outputs": [],
   "source": [
    "# Exclude background from the analysis\n",
    "intersection = intersection[1:,1:]\n",
    "union = union[1:,1:]\n",
    "union[union == 0] = 1e-9"
   ]
  },
  {
   "cell_type": "code",
   "execution_count": 76,
   "metadata": {},
   "outputs": [],
   "source": [
    "# Precision helper function\n",
    "def precision_at(threshold, iou):\n",
    "    matches = iou > threshold # 0.5, 0.55, 0.6, 0.65, ... , 0.95\n",
    "    true_positives = np.sum(matches, axis=1) == 1   # Correct Objects\n",
    "    false_positives = np.sum(matches, axis=0) == 0  # Extra Objects\n",
    "    false_negatives = np.sum(matches, axis=1) == 0  # Missed Objects\n",
    "    tp, fp, fn = np.sum(true_positives), np.sum(false_positives), np.sum(false_negatives)\n",
    "    return tp, fp, fn"
   ]
  },
  {
   "cell_type": "code",
   "execution_count": 78,
   "metadata": {},
   "outputs": [
    {
     "name": "stdout",
     "output_type": "stream",
     "text": [
      "Thresh\tTP\tFP\tFN\tPrec.\n",
      "0.500\t1\t0\t1\t0.500\n",
      "0.550\t1\t0\t1\t0.500\n",
      "0.600\t1\t0\t1\t0.500\n",
      "0.650\t1\t0\t1\t0.500\n",
      "0.700\t1\t0\t1\t0.500\n",
      "0.750\t1\t0\t1\t0.500\n",
      "0.800\t1\t0\t1\t0.500\n",
      "0.850\t0\t1\t2\t0.000\n",
      "0.900\t0\t1\t2\t0.000\n",
      "0.950\t0\t1\t2\t0.000\n",
      "AP\t-\t-\t-\t0.350\n"
     ]
    }
   ],
   "source": [
    "# Loop over IoU thresholds\n",
    "prec = []\n",
    "print(\"Thresh\\tTP\\tFP\\tFN\\tPrec.\")\n",
    "for t in np.arange(0.5, 1.0, 0.05):\n",
    "    tp, fp, fn = precision_at(t, iou)\n",
    "    p = tp / (tp + fp + fn)\n",
    "    print(\"{:1.3f}\\t{}\\t{}\\t{}\\t{:1.3f}\".format(t, tp, fp, fn, p))\n",
    "    prec.append(p)\n",
    "print(\"AP\\t-\\t-\\t-\\t{:1.3f}\".format(np.mean(prec)))"
   ]
  },
  {
   "cell_type": "code",
   "execution_count": 81,
   "metadata": {},
   "outputs": [],
   "source": [
    "class InferenceConfig(ShapesConfig):\n",
    "    GPU_COUNT = 1\n",
    "    IMAGES_PER_GPU = 1\n",
    "\n",
    "inference_config = InferenceConfig()\n"
   ]
  },
  {
   "cell_type": "code",
   "execution_count": 82,
   "metadata": {},
   "outputs": [],
   "source": [
    "image, image_meta, gt_class_id, gt_bbox, gt_mask =\\\n",
    "        modellib.load_image_gt(dataset_val, inference_config,\n",
    "                               4, use_mini_mask=False)"
   ]
  },
  {
   "cell_type": "code",
   "execution_count": 88,
   "metadata": {},
   "outputs": [
    {
     "data": {
      "text/plain": [
       "<matplotlib.image.AxesImage at 0x7ff6c62c7d30>"
      ]
     },
     "execution_count": 88,
     "metadata": {},
     "output_type": "execute_result"
    },
    {
     "data": {
      "image/png": "[encoded data removed]",
      "text/plain": [
       "<matplotlib.figure.Figure at 0x7ff6c626e860>"
      ]
     },
     "metadata": {},
     "output_type": "display_data"
    }
   ],
   "source": [
    "plt.imshow(gt_mask[:,:,0])"
   ]
  },
  {
   "cell_type": "code",
   "execution_count": 89,
   "metadata": {},
   "outputs": [
    {
     "data": {
      "text/plain": [
       "array([3, 3], dtype=int32)"
      ]
     },
     "execution_count": 89,
     "metadata": {},
     "output_type": "execute_result"
    }
   ],
   "source": [
    "shape_class"
   ]
  },
  {
   "cell_type": "code",
   "execution_count": 103,
   "metadata": {},
   "outputs": [],
   "source": [
    "bbox = utils.extract_bboxes(shape_pred)"
   ]
  },
  {
   "cell_type": "code",
   "execution_count": 104,
   "metadata": {},
   "outputs": [
    {
     "data": {
      "text/plain": [
       "array([[ 0,  0, 59, 70]], dtype=int32)"
      ]
     },
     "execution_count": 104,
     "metadata": {},
     "output_type": "execute_result"
    }
   ],
   "source": [
    "bbox"
   ]
  },
  {
   "cell_type": "code",
   "execution_count": 101,
   "metadata": {},
   "outputs": [],
   "source": [
    "shape_pred = shape_pred[:,:,None]"
   ]
  },
  {
   "cell_type": "code",
   "execution_count": 108,
   "metadata": {},
   "outputs": [
    {
     "data": {
      "text/plain": [
       "<matplotlib.image.AxesImage at 0x7ff720ae7a20>"
      ]
     },
     "execution_count": 108,
     "metadata": {},
     "output_type": "execute_result"
    },
    {
     "data": {
      "image/png": "[encoded data removed]",
      "text/plain": [
       "<matplotlib.figure.Figure at 0x7ff6c633af60>"
      ]
     },
     "metadata": {},
     "output_type": "display_data"
    }
   ],
   "source": [
    "plt.imshow(shape_pred[:,:,0])"
   ]
  },
  {
   "cell_type": "code",
   "execution_count": 102,
   "metadata": {},
   "outputs": [
    {
     "data": {
      "text/plain": [
       "(128, 128, 1)"
      ]
     },
     "execution_count": 102,
     "metadata": {},
     "output_type": "execute_result"
    }
   ],
   "source": [
    "shape_pred.shape"
   ]
  },
  {
   "cell_type": "code",
   "execution_count": 109,
   "metadata": {},
   "outputs": [
    {
     "data": {
      "text/plain": [
       "(2,)"
      ]
     },
     "execution_count": 109,
     "metadata": {},
     "output_type": "execute_result"
    }
   ],
   "source": [
    "gt_class_id.shape"
   ]
  },
  {
   "cell_type": "code",
   "execution_count": 115,
   "metadata": {},
   "outputs": [
    {
     "data": {
      "text/plain": [
       "(0.5,\n",
       " array([1., 1., 0.]),\n",
       " array([0. , 0.5, 1. ]),\n",
       " array([[0.        , 0.91431176]]))"
      ]
     },
     "execution_count": 115,
     "metadata": {},
     "output_type": "execute_result"
    }
   ],
   "source": [
    "utils.compute_ap(gt_bbox, gt_class_id,bbox,np.array([3]), np.array([0.99]), iou_threshold=0.90)"
   ]
  },
  {
   "cell_type": "code",
   "execution_count": 127,
   "metadata": {},
   "outputs": [],
   "source": [
    "# Precision helper function\n",
    "def precision_at(threshold, iou):\n",
    "    matches = iou > threshold # 0.5, 0.55, 0.6, 0.65, ... , 0.95\n",
    "    true_positives = np.sum(matches, axis=1) == 1   # Correct Objects\n",
    "    false_positives = np.sum(matches, axis=0) == 0  # Extra Objects\n",
    "    false_negatives = np.sum(matches, axis=1) == 0  # Missed Objects\n",
    "    tp, fp, fn = np.sum(true_positives), np.sum(false_positives), np.sum(false_negatives)\n",
    "    return tp, fp, fn\n",
    "\n",
    "# Create function to calculate mean IoU Precision at different thresholds\n",
    "def val_iou(labels, y_pred):\n",
    "    \"\"\"\n",
    "    Function takes labels and y_preds as arguments.\n",
    "    labels and y_preds have to be 2D, not 3D. All the \n",
    "    objects have to be numbered inside.\n",
    "    \"\"\"\n",
    "    # Compute number of objects\n",
    "    true_objects = len(np.unique(labels))\n",
    "    pred_objects = len(np.unique(y_pred))\n",
    "    \n",
    "    # Compute areas (needed for finding the union between all objects)\n",
    "    area_true, atbins = np.histogram(labels, bins = true_objects)[:2]\n",
    "    area_pred, apbins = np.histogram(y_pred, bins = pred_objects)[:2]\n",
    "    area_true = np.expand_dims(area_true, -1)\n",
    "    area_pred = np.expand_dims(area_pred, 0)\n",
    "    \n",
    "    # Compute intersection between all objects\n",
    "    intersection, xedges, yedges = np.histogram2d(labels.flatten(), y_pred.flatten(), bins=(true_objects, pred_objects))\n",
    "\n",
    "    \n",
    "    # Compute union\n",
    "    union = area_true + area_pred - intersection\n",
    "    \n",
    "    # Exclude background from the analysis\n",
    "    intersection = intersection[1:,1:]\n",
    "    union = union[1:,1:]\n",
    "    union[union == 0] = 1e-9\n",
    "    \n",
    "    # Compute the intersection over union\n",
    "    iou = intersection / union\n",
    "    \n",
    "    # Loop over IoU thresholds\n",
    "    prec = []\n",
    "    table = \n",
    "    print(\"Thresh\\tTP\\tFP\\tFN\\tPrec.\")\n",
    "    for t in np.arange(0.5, 1.0, 0.05):\n",
    "        tp, fp, fn = precision_at(t, iou)\n",
    "        p = tp / (tp + fp + fn)\n",
    "        print(\"{:1.3f}\\t{}\\t{}\\t{}\\t{:1.3f}\".format(t, tp, fp, fn, p))\n",
    "        prec.append(p)\n",
    "    print(\"AP\\t-\\t-\\t-\\t{:1.3f}\".format(np.mean(prec)))"
   ]
  },
  {
   "cell_type": "code",
   "execution_count": null,
   "metadata": {},
   "outputs": [],
   "source": [
    "def iou_metric(y_true_in, y_pred_in, print_table=False):\n",
    "    # Is the below required? Are you sure?\n",
    "    # labels = label(y_true_in > 0.5)\n",
    "    # y_pred = label(y_pred_in > 0.5)\n",
    "    \n",
    "    true_objects = len(np.unique(labels))\n",
    "    pred_objects = len(np.unique(y_pred))\n",
    "\n",
    "    intersection = np.histogram2d(labels.flatten(), y_pred.flatten(), bins=(true_objects, pred_objects))[0]\n",
    "\n",
    "    # Compute areas (needed for finding the union between all objects)\n",
    "    area_true = np.histogram(labels, bins = true_objects)[0]\n",
    "    area_pred = np.histogram(y_pred, bins = pred_objects)[0]\n",
    "    area_true = np.expand_dims(area_true, -1)\n",
    "    area_pred = np.expand_dims(area_pred, 0)\n",
    "\n",
    "    # Compute union\n",
    "    union = area_true + area_pred - intersection\n",
    "\n",
    "    # Exclude background from the analysis\n",
    "    intersection = intersection[1:,1:]\n",
    "    union = union[1:,1:]\n",
    "    union[union == 0] = 1e-9\n",
    "\n",
    "    # Compute the intersection over union\n",
    "    iou = intersection / union\n",
    "\n",
    "    # Precision helper function\n",
    "    def precision_at(threshold, iou):\n",
    "        matches = iou > threshold\n",
    "        true_positives = np.sum(matches, axis=1) == 1   # Correct objects\n",
    "        false_positives = np.sum(matches, axis=0) == 0  # Missed objects\n",
    "        false_negatives = np.sum(matches, axis=1) == 0  # Extra objects\n",
    "        tp, fp, fn = np.sum(true_positives), np.sum(false_positives), np.sum(false_negatives)\n",
    "        return tp, fp, fn\n",
    "\n",
    "    # Loop over IoU thresholds\n",
    "    prec = []\n",
    "    if print_table:\n",
    "        print(\"Thresh\\tTP\\tFP\\tFN\\tPrec.\")\n",
    "    for t in np.arange(0.5, 1.0, 0.05):\n",
    "        tp, fp, fn = precision_at(t, iou)\n",
    "        if (tp + fp + fn) > 0:\n",
    "            p = tp / (tp + fp + fn)\n",
    "        else:\n",
    "            p = 0\n",
    "        if print_table:\n",
    "            print(\"{:1.3f}\\t{}\\t{}\\t{}\\t{:1.3f}\".format(t, tp, fp, fn, p))\n",
    "        prec.append(p)\n",
    "    \n",
    "    if print_table:\n",
    "        print(\"AP\\t-\\t-\\t-\\t{:1.3f}\".format(np.mean(prec)))\n",
    "    return np.mean(prec)\n",
    "\n",
    "def iou_metric_batch(y_true_in, y_pred_in):\n",
    "    batch_size = y_true_in.shape[0]\n",
    "    metric = []\n",
    "    for batch in range(batch_size):\n",
    "        value = iou_metric(y_true_in[batch], y_pred_in[batch])\n",
    "        metric.append(value)\n",
    "    return np.array(np.mean(metric), dtype=np.float32)\n",
    "\n",
    "def my_iou_metric(label, pred):\n",
    "    metric_value = tf.py_func(iou_metric_batch, [label, pred], tf.float32)\n",
    "    return metric_value"
   ]
  },
  {
   "cell_type": "code",
   "execution_count": 128,
   "metadata": {},
   "outputs": [
    {
     "name": "stdout",
     "output_type": "stream",
     "text": [
      "Thresh\tTP\tFP\tFN\tPrec.\n",
      "0.500\t25\t1\t2\t0.893\n",
      "0.550\t24\t2\t3\t0.828\n",
      "0.600\t22\t4\t5\t0.710\n",
      "0.650\t18\t8\t9\t0.514\n",
      "0.700\t13\t13\t14\t0.325\n",
      "0.750\t4\t22\t23\t0.082\n",
      "0.800\t0\t26\t27\t0.000\n",
      "0.850\t0\t26\t27\t0.000\n",
      "0.900\t0\t26\t27\t0.000\n",
      "0.950\t0\t26\t27\t0.000\n",
      "AP\t-\t-\t-\t0.335\n"
     ]
    }
   ],
   "source": [
    "val_iou(labels,y_pred)"
   ]
  },
  {
   "cell_type": "code",
   "execution_count": null,
   "metadata": {},
   "outputs": [],
   "source": []
  }
 ],
 "metadata": {
  "anaconda-cloud": {},
  "kernelspec": {
   "display_name": "Python 3",
   "language": "python",
   "name": "python3"
  },
  "language_info": {
   "codemirror_mode": {
    "name": "ipython",
    "version": 3
   },
   "file_extension": ".py",
   "mimetype": "text/x-python",
   "name": "python",
   "nbconvert_exporter": "python",
   "pygments_lexer": "ipython3",
   "version": "3.6.4"
  }
 },
 "nbformat": 4,
 "nbformat_minor": 1
}
